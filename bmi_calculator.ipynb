{
 "cells": [
  {
   "cell_type": "code",
   "execution_count": null,
   "id": "5162a312",
   "metadata": {},
   "outputs": [],
   "source": [
    "name = input('Enter your name: ')\n",
    "weight = float(input('Enter your weight in kilograms: '))\n",
    "height = float(input('Enter your height in metres: '))\n",
    "BMI = round((weight/(height**2)), 2)\n",
    "\n",
    "print(BMI)\n",
    "\n",
    "if BMI > 0:\n",
    "    if (BMI < 18.5):\n",
    "        print(name + ', you are underweight.')\n",
    "    elif (BMI < 25.0):\n",
    "        print(name + ', you are normal weight.')\n",
    "    elif (BMI < 30.0):\n",
    "        print(name + ', you are overweight.')\n",
    "    elif (BMI < 35.0):\n",
    "        print(name + ', you are obese.')\n",
    "    elif (BMI < 40.0):\n",
    "        print(name + ', you are severely obese.')\n",
    "    elif (BMI >= 40.0):\n",
    "        print(name + ', you are morbidly obese.')\n",
    "else:\n",
    "    print('Enter valid input')"
   ]
  },
  {
   "cell_type": "code",
   "execution_count": null,
   "id": "75208da0",
   "metadata": {},
   "outputs": [],
   "source": []
  }
 ],
 "metadata": {
  "kernelspec": {
   "display_name": "Python 3 (ipykernel)",
   "language": "python",
   "name": "python3"
  },
  "language_info": {
   "codemirror_mode": {
    "name": "ipython",
    "version": 3
   },
   "file_extension": ".py",
   "mimetype": "text/x-python",
   "name": "python",
   "nbconvert_exporter": "python",
   "pygments_lexer": "ipython3",
   "version": "3.11.5"
  }
 },
 "nbformat": 4,
 "nbformat_minor": 5
}
